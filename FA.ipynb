version https://git-lfs.github.com/spec/v1
oid sha256:0fefc97b4e417706bfc07345d5260191ddfb0c45d0607b655f639fae2203f4ea
size 60952911
